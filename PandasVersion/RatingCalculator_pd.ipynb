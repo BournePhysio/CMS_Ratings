{
 "cells": [
  {
   "cell_type": "code",
   "execution_count": 443,
   "metadata": {},
   "outputs": [],
   "source": [
    "import json\n",
    "import pandas as pd\n",
    "import seaborn as sns\n",
    "import matplotlib.pyplot as plt\n"
   ]
  },
  {
   "cell_type": "code",
   "execution_count": 444,
   "metadata": {},
   "outputs": [],
   "source": [
    "results_directory = 'Processed'\n",
    "file_name = 'Processed//201109_231143_R2_proc.json'\n",
    "events_name = 'events_pd.json'\n",
    "ratings_name = 'RatingData_pd.json'"
   ]
  },
  {
   "cell_type": "code",
   "execution_count": 445,
   "metadata": {},
   "outputs": [],
   "source": [
    "results = pd.read_json(file_name)\n",
    "events = pd.read_json(events_name)\n",
    "ratings = pd.read_json(ratings_name)"
   ]
  },
  {
   "cell_type": "code",
   "execution_count": 446,
   "metadata": {},
   "outputs": [],
   "source": [
    "# pull event data\n",
    "# Create the event and add to events file\n",
    "event = pd.DataFrame({ 'race_id': results['race_id'], 'race_type': results['race_type'], 'sessionType': results['sessionType'], 'track': results['track'], 'useRating': results['useRating']})\n"
   ]
  },
  {
   "cell_type": "code",
   "execution_count": 447,
   "metadata": {},
   "outputs": [
    {
     "data": {
      "text/html": [
       "<div>\n",
       "<style scoped>\n",
       "    .dataframe tbody tr th:only-of-type {\n",
       "        vertical-align: middle;\n",
       "    }\n",
       "\n",
       "    .dataframe tbody tr th {\n",
       "        vertical-align: top;\n",
       "    }\n",
       "\n",
       "    .dataframe thead th {\n",
       "        text-align: right;\n",
       "    }\n",
       "</style>\n",
       "<table border=\"1\" class=\"dataframe\">\n",
       "  <thead>\n",
       "    <tr style=\"text-align: right;\">\n",
       "      <th></th>\n",
       "      <th>race_id</th>\n",
       "      <th>race_type</th>\n",
       "      <th>sessionType</th>\n",
       "      <th>track</th>\n",
       "      <th>useRating</th>\n",
       "    </tr>\n",
       "  </thead>\n",
       "  <tbody>\n",
       "    <tr>\n",
       "      <th>0</th>\n",
       "      <td>PaulRicardS5</td>\n",
       "      <td>sprint</td>\n",
       "      <td>R1</td>\n",
       "      <td>paul_ricard_2019</td>\n",
       "      <td>True</td>\n",
       "    </tr>\n",
       "    <tr>\n",
       "      <th>1</th>\n",
       "      <td>ZolderS5</td>\n",
       "      <td>sprint</td>\n",
       "      <td>R</td>\n",
       "      <td>zolder_2019</td>\n",
       "      <td>True</td>\n",
       "    </tr>\n",
       "    <tr>\n",
       "      <th>2</th>\n",
       "      <td>MisanoS5</td>\n",
       "      <td>sprint</td>\n",
       "      <td>R</td>\n",
       "      <td>misano_2019</td>\n",
       "      <td>True</td>\n",
       "    </tr>\n",
       "    <tr>\n",
       "      <th>3</th>\n",
       "      <td>MisanoS5R2</td>\n",
       "      <td>sprint</td>\n",
       "      <td>R2</td>\n",
       "      <td>misano_2019</td>\n",
       "      <td>True</td>\n",
       "    </tr>\n",
       "  </tbody>\n",
       "</table>\n",
       "</div>"
      ],
      "text/plain": [
       "        race_id race_type sessionType             track  useRating\n",
       "0  PaulRicardS5    sprint          R1  paul_ricard_2019       True\n",
       "1      ZolderS5    sprint           R       zolder_2019       True\n",
       "2      MisanoS5    sprint           R       misano_2019       True\n",
       "3    MisanoS5R2    sprint          R2       misano_2019       True"
      ]
     },
     "execution_count": 447,
     "metadata": {},
     "output_type": "execute_result"
    }
   ],
   "source": [
    "events = pd.concat([events, event])\n",
    "events.drop_duplicates(subset = ['race_id'], keep='first', inplace=True)\n",
    "\n",
    "# add new results to old results\n",
    "ratings_data = pd.concat([ratings, results])\n",
    "ratings.head(4)\n",
    "events"
   ]
  },
  {
   "cell_type": "code",
   "execution_count": 448,
   "metadata": {},
   "outputs": [],
   "source": [
    "# drop ratings from ratings file then merge event data\n",
    "ratings_data.drop(['useRating'], axis=1)\n",
    "# sort by laptime then drop duplicates (i.e. worse rating)\n",
    "ratings_data = ratings_data.sort_values(by=['laptime'])"
   ]
  },
  {
   "cell_type": "code",
   "execution_count": 449,
   "metadata": {},
   "outputs": [],
   "source": [
    "ratings_data.drop_duplicates(subset = ['steamId', 'GT3','race_id'], keep='first', inplace=True)\n",
    "# remove where useRating = false\n",
    "filt = (ratings_data['useRating'] == True)\n",
    "ratings_data = ratings_data.loc[filt]\n"
   ]
  },
  {
   "cell_type": "code",
   "execution_count": 450,
   "metadata": {},
   "outputs": [],
   "source": [
    "# Add the best time per event and per class\n",
    "ratings_data['best_times']  = ratings_data.groupby(['race_id', 'GT3'])['laptime'].transform('min')"
   ]
  },
  {
   "cell_type": "code",
   "execution_count": 451,
   "metadata": {},
   "outputs": [],
   "source": [
    "def rating_calc(x):\n",
    "    zero_cut = 1.10\n",
    "    rating = (1 - (x['laptime'] - x['best_times'])/ (x['best_times']* zero_cut - x['best_times'])) * 100\n",
    "    if rating < 0:\n",
    "        rating = 0\n",
    "    return rating"
   ]
  },
  {
   "cell_type": "code",
   "execution_count": 452,
   "metadata": {},
   "outputs": [
    {
     "data": {
      "text/html": [
       "<div>\n",
       "<style scoped>\n",
       "    .dataframe tbody tr th:only-of-type {\n",
       "        vertical-align: middle;\n",
       "    }\n",
       "\n",
       "    .dataframe tbody tr th {\n",
       "        vertical-align: top;\n",
       "    }\n",
       "\n",
       "    .dataframe thead th {\n",
       "        text-align: right;\n",
       "    }\n",
       "</style>\n",
       "<table border=\"1\" class=\"dataframe\">\n",
       "  <thead>\n",
       "    <tr style=\"text-align: right;\">\n",
       "      <th></th>\n",
       "      <th>race_id</th>\n",
       "      <th>carId</th>\n",
       "      <th>driverIndex</th>\n",
       "      <th>laptime</th>\n",
       "      <th>isValidForBest</th>\n",
       "      <th>car_carModel</th>\n",
       "      <th>firstName</th>\n",
       "      <th>lastName</th>\n",
       "      <th>steamId</th>\n",
       "      <th>GT3</th>\n",
       "      <th>race_type</th>\n",
       "      <th>sessionType</th>\n",
       "      <th>track</th>\n",
       "      <th>useRating</th>\n",
       "      <th>best_times</th>\n",
       "      <th>rating</th>\n",
       "    </tr>\n",
       "  </thead>\n",
       "  <tbody>\n",
       "    <tr>\n",
       "      <th>0</th>\n",
       "      <td>ZolderS5</td>\n",
       "      <td>1004</td>\n",
       "      <td>0</td>\n",
       "      <td>89.2866</td>\n",
       "      <td>True</td>\n",
       "      <td>8</td>\n",
       "      <td>Hamza</td>\n",
       "      <td>Gulzar</td>\n",
       "      <td>S76561198046750315</td>\n",
       "      <td>GT3</td>\n",
       "      <td>sprint</td>\n",
       "      <td>R</td>\n",
       "      <td>zolder_2019</td>\n",
       "      <td>True</td>\n",
       "      <td>89.2866</td>\n",
       "      <td>100.000000</td>\n",
       "    </tr>\n",
       "    <tr>\n",
       "      <th>1</th>\n",
       "      <td>ZolderS5</td>\n",
       "      <td>1033</td>\n",
       "      <td>0</td>\n",
       "      <td>89.4165</td>\n",
       "      <td>True</td>\n",
       "      <td>19</td>\n",
       "      <td>Andi</td>\n",
       "      <td>Maier</td>\n",
       "      <td>S76561198022842257</td>\n",
       "      <td>GT3</td>\n",
       "      <td>sprint</td>\n",
       "      <td>R</td>\n",
       "      <td>zolder_2019</td>\n",
       "      <td>True</td>\n",
       "      <td>89.2866</td>\n",
       "      <td>97.921621</td>\n",
       "    </tr>\n",
       "    <tr>\n",
       "      <th>2</th>\n",
       "      <td>ZolderS5</td>\n",
       "      <td>1023</td>\n",
       "      <td>0</td>\n",
       "      <td>89.4801</td>\n",
       "      <td>True</td>\n",
       "      <td>15</td>\n",
       "      <td>Josh</td>\n",
       "      <td>Staffin</td>\n",
       "      <td>S76561198097846680</td>\n",
       "      <td>GT3</td>\n",
       "      <td>sprint</td>\n",
       "      <td>R</td>\n",
       "      <td>zolder_2019</td>\n",
       "      <td>True</td>\n",
       "      <td>89.2866</td>\n",
       "      <td>96.904031</td>\n",
       "    </tr>\n",
       "    <tr>\n",
       "      <th>3</th>\n",
       "      <td>ZolderS5</td>\n",
       "      <td>1007</td>\n",
       "      <td>0</td>\n",
       "      <td>89.8959</td>\n",
       "      <td>True</td>\n",
       "      <td>1</td>\n",
       "      <td>Matheus</td>\n",
       "      <td>Freitas</td>\n",
       "      <td>S76561198355352156</td>\n",
       "      <td>GT3</td>\n",
       "      <td>sprint</td>\n",
       "      <td>R</td>\n",
       "      <td>zolder_2019</td>\n",
       "      <td>True</td>\n",
       "      <td>89.2866</td>\n",
       "      <td>90.251297</td>\n",
       "    </tr>\n",
       "    <tr>\n",
       "      <th>4</th>\n",
       "      <td>ZolderS5</td>\n",
       "      <td>1011</td>\n",
       "      <td>0</td>\n",
       "      <td>89.9766</td>\n",
       "      <td>True</td>\n",
       "      <td>15</td>\n",
       "      <td>Cody</td>\n",
       "      <td>Smith</td>\n",
       "      <td>S76561198057962706</td>\n",
       "      <td>GT3</td>\n",
       "      <td>sprint</td>\n",
       "      <td>R</td>\n",
       "      <td>zolder_2019</td>\n",
       "      <td>True</td>\n",
       "      <td>89.2866</td>\n",
       "      <td>88.960110</td>\n",
       "    </tr>\n",
       "  </tbody>\n",
       "</table>\n",
       "</div>"
      ],
      "text/plain": [
       "    race_id  carId  driverIndex  laptime  isValidForBest  car_carModel  \\\n",
       "0  ZolderS5   1004            0  89.2866            True             8   \n",
       "1  ZolderS5   1033            0  89.4165            True            19   \n",
       "2  ZolderS5   1023            0  89.4801            True            15   \n",
       "3  ZolderS5   1007            0  89.8959            True             1   \n",
       "4  ZolderS5   1011            0  89.9766            True            15   \n",
       "\n",
       "  firstName lastName             steamId  GT3 race_type sessionType  \\\n",
       "0     Hamza   Gulzar  S76561198046750315  GT3    sprint           R   \n",
       "1      Andi    Maier  S76561198022842257  GT3    sprint           R   \n",
       "2      Josh  Staffin  S76561198097846680  GT3    sprint           R   \n",
       "3   Matheus  Freitas  S76561198355352156  GT3    sprint           R   \n",
       "4      Cody    Smith  S76561198057962706  GT3    sprint           R   \n",
       "\n",
       "         track  useRating  best_times      rating  \n",
       "0  zolder_2019       True     89.2866  100.000000  \n",
       "1  zolder_2019       True     89.2866   97.921621  \n",
       "2  zolder_2019       True     89.2866   96.904031  \n",
       "3  zolder_2019       True     89.2866   90.251297  \n",
       "4  zolder_2019       True     89.2866   88.960110  "
      ]
     },
     "execution_count": 452,
     "metadata": {},
     "output_type": "execute_result"
    }
   ],
   "source": [
    "# Calculate the rating\n",
    "# ratings_data['rating']= (1 - (ratings_data['laptime'] - ratings_data['best_times'])/(ratings_data['best_times']*1.07 - ratings_data['best_times'])) * 100\n",
    "ratings_temp = ratings_data.apply(rating_calc, axis = 1)\n",
    "ratings_data.head(5)"
   ]
  },
  {
   "cell_type": "code",
   "execution_count": 453,
   "metadata": {},
   "outputs": [
    {
     "data": {
      "text/plain": [
       "lastName\n",
       "Anderson     30.634039\n",
       "Araujo       80.233851\n",
       "Archibald   -22.140412\n",
       "Barman       98.177865\n",
       "Barnes       83.548560\n",
       "               ...    \n",
       "Umbarger     83.815227\n",
       "Uyan         72.252048\n",
       "Weekes       74.758944\n",
       "Wolff        39.226985\n",
       "Wong         11.856380\n",
       "Name: rating, Length: 77, dtype: float64"
      ]
     },
     "execution_count": 453,
     "metadata": {},
     "output_type": "execute_result"
    }
   ],
   "source": [
    "overall_rating = ratings_data.groupby(['lastName'])['rating'].mean()\n",
    "overall_rating"
   ]
  },
  {
   "cell_type": "code",
   "execution_count": 454,
   "metadata": {},
   "outputs": [],
   "source": [
    "ratings_data.to_json(ratings_name, orient='records')\n",
    "events.to_json(events_name, orient='records')"
   ]
  }
 ],
 "metadata": {
  "kernelspec": {
   "display_name": "Python 3",
   "language": "python",
   "name": "python3"
  },
  "language_info": {
   "codemirror_mode": {
    "name": "ipython",
    "version": 3
   },
   "file_extension": ".py",
   "mimetype": "text/x-python",
   "name": "python",
   "nbconvert_exporter": "python",
   "pygments_lexer": "ipython3",
   "version": "3.8.3"
  }
 },
 "nbformat": 4,
 "nbformat_minor": 4
}
